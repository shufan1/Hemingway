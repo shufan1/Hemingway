{
  "nbformat": 4,
  "nbformat_minor": 0,
  "metadata": {
    "colab": {
      "name": "HelloDemo",
      "provenance": [],
      "authorship_tag": "ABX9TyND6+/v9P61BPrcrvz71Z0p",
      "include_colab_link": true
    },
    "kernelspec": {
      "name": "python3",
      "display_name": "Python 3"
    },
    "language_info": {
      "name": "python"
    }
  },
  "cells": [
    {
      "cell_type": "markdown",
      "metadata": {
        "id": "view-in-github",
        "colab_type": "text"
      },
      "source": [
        "<a href=\"https://colab.research.google.com/github/shufan1/Hemingway/blob/main/HelloDemo.ipynb\" target=\"_parent\"><img src=\"https://colab.research.google.com/assets/colab-badge.svg\" alt=\"Open In Colab\"/></a>"
      ]
    },
    {
      "cell_type": "markdown",
      "metadata": {
        "id": "_DEw9FwpC9BE"
      },
      "source": [
        "\n",
        "# Ingestion of data\n",
        "\n"
      ]
    },
    {
      "cell_type": "markdown",
      "metadata": {
        "id": "HjC4IIYxDT8o"
      },
      "source": [
        "download the book"
      ]
    },
    {
      "cell_type": "code",
      "metadata": {
        "colab": {
          "base_uri": "https://localhost:8080/"
        },
        "id": "kus5tMzkDLw-",
        "outputId": "c89b0f7b-40fc-40ac-b424-154f1f545e10"
      },
      "source": [
        "!wget https://raw.githubusercontent.com/shufan1/Hemingway/main/OldManSeaBook.txt"
      ],
      "execution_count": 5,
      "outputs": [
        {
          "output_type": "stream",
          "name": "stdout",
          "text": [
            "--2021-09-14 20:45:14--  https://raw.githubusercontent.com/shufan1/Hemingway/main/OldManSeaBook.txt\n",
            "Resolving raw.githubusercontent.com (raw.githubusercontent.com)... 185.199.108.133, 185.199.109.133, 185.199.110.133, ...\n",
            "Connecting to raw.githubusercontent.com (raw.githubusercontent.com)|185.199.108.133|:443... connected.\n",
            "HTTP request sent, awaiting response... 200 OK\n",
            "Length: 135337 (132K) [text/plain]\n",
            "Saving to: ‘OldManSeaBook.txt.1’\n",
            "\n",
            "\rOldManSeaBook.txt.1   0%[                    ]       0  --.-KB/s               \rOldManSeaBook.txt.1 100%[===================>] 132.17K  --.-KB/s    in 0.06s   \n",
            "\n",
            "2021-09-14 20:45:14 (2.33 MB/s) - ‘OldManSeaBook.txt.1’ saved [135337/135337]\n",
            "\n"
          ]
        }
      ]
    },
    {
      "cell_type": "code",
      "metadata": {
        "colab": {
          "base_uri": "https://localhost:8080/"
        },
        "id": "q7pHslVJDM-E",
        "outputId": "a84e47ca-ff38-4eab-b4d8-9167c551b192"
      },
      "source": [
        "!head OldManSeaBook.txt"
      ],
      "execution_count": 6,
      "outputs": [
        {
          "output_type": "stream",
          "name": "stdout",
          "text": [
            "THE OLD MAN\n",
            "\n",
            "AND\n",
            "\n",
            "THE SEA\n",
            "\n",
            "\n",
            "\n",
            "\n",
            "ERNEST HEMINGWAY\n"
          ]
        }
      ]
    },
    {
      "cell_type": "code",
      "metadata": {
        "colab": {
          "base_uri": "https://localhost:8080/"
        },
        "id": "g9JgTmfrDeoM",
        "outputId": "d4cc3a83-93e6-40ae-acc6-727207d3b72e"
      },
      "source": [
        "!tail OldManSeaBook.txt"
      ],
      "execution_count": 7,
      "outputs": [
        {
          "output_type": "stream",
          "name": "stdout",
          "text": [
            "  THE TORRENTS OF SPRING\n",
            "  IN OUR TIME\n",
            "\n",
            "\n",
            "_CHARLES SCRIBNER'S SONS_\n",
            "\n",
            "\n",
            "\n",
            "\n",
            "[End of The Old Man and the Sea, by Ernest Hemingway]\n"
          ]
        }
      ]
    },
    {
      "cell_type": "code",
      "metadata": {
        "id": "x7klv5RPDdfQ"
      },
      "source": [
        ""
      ],
      "execution_count": null,
      "outputs": []
    },
    {
      "cell_type": "markdown",
      "metadata": {
        "id": "nbvS1P2FCz7k"
      },
      "source": [
        ""
      ]
    }
  ]
}